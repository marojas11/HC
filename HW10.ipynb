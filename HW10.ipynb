{
 "metadata": {
  "name": "",
  "signature": "sha256:0e51936c8a6b0bcdd045dd7ce2809da999d11ab45e0c54f04a808e4674a28725"
 },
 "nbformat": 3,
 "nbformat_minor": 0,
 "worksheets": [
  {
   "cells": [
    {
     "cell_type": "code",
     "collapsed": false,
     "input": [
      "%pylab inline\n"
     ],
     "language": "python",
     "metadata": {},
     "outputs": [
      {
       "output_type": "stream",
       "stream": "stdout",
       "text": [
        "Populating the interactive namespace from numpy and matplotlib\n"
       ]
      }
     ],
     "prompt_number": 32
    },
    {
     "cell_type": "code",
     "collapsed": false,
     "input": [
      "\n",
      "\n",
      "A=[]\n",
      "G=[]\n",
      "T=[]\n",
      "C=[]\n",
      "for i in range (1,3):\n",
      "    file=open(\"hs_alt_CHM1_1.1_chr\"+str(i)+\".fa\",'r')\n",
      "    for j in range (0,5000000):\n",
      "        x=file.read(71)\n",
      "        if(x.count('A') != 0):\n",
      "            A.append(x.count('A'))\n",
      "        if(x.count('G') != 0):\n",
      "            G.append(x.count('G'))\n",
      "        if(x.count('T') != 0):\n",
      "            T.append(x.count('T'))\n",
      "        if(x.count('C') != 0):\n",
      "            C.append(x.count('C'))    \n",
      "           \n",
      "        #for i in range (1,len(a)): \n",
      "            #b=a[i] \n",
      "            \n",
      "               "
     ],
     "language": "python",
     "metadata": {},
     "outputs": [],
     "prompt_number": 16
    },
    {
     "cell_type": "code",
     "collapsed": false,
     "input": [
      "for i in range (3,7):\n",
      "    file=open(\"hs_alt_CHM1_1.1_chr\"+str(i)+\".fa\",'r')\n",
      "    for j in range (0,5000000):\n",
      "        x=file.read(71)\n",
      "        if(x.count('A') != 0):\n",
      "            A.append(x.count('A'))\n",
      "        if(x.count('G') != 0):\n",
      "            G.append(x.count('G'))\n",
      "        if(x.count('T') != 0):\n",
      "            T.append(x.count('T'))\n",
      "        if(x.count('C') != 0):\n",
      "            C.append(x.count('C'))    \n",
      "           "
     ],
     "language": "python",
     "metadata": {},
     "outputs": [],
     "prompt_number": 18
    },
    {
     "cell_type": "code",
     "collapsed": false,
     "input": [
      "for i in range (7,14):\n",
      "    file=open(\"hs_alt_CHM1_1.1_chr\"+str(i)+\".fa\",'r')\n",
      "    for j in range (0,5000000):\n",
      "        x=file.read(71)\n",
      "        if(x.count('A') != 0):\n",
      "            A.append(x.count('A'))\n",
      "        if(x.count('G') != 0):\n",
      "            G.append(x.count('G'))\n",
      "        if(x.count('T') != 0):\n",
      "            T.append(x.count('T'))\n",
      "        if(x.count('C') != 0):\n",
      "            C.append(x.count('C'))    \n",
      "        "
     ],
     "language": "python",
     "metadata": {},
     "outputs": [],
     "prompt_number": 19
    },
    {
     "cell_type": "code",
     "collapsed": false,
     "input": [
      "TA=[]\n",
      "TG=[]\n",
      "TT=[]\n",
      "TC=[]\n",
      "for i in range (14,20):\n",
      "    file=open(\"hs_alt_CHM1_1.1_chr\"+str(i)+\".fa\",'r')\n",
      "    for j in range (0,5000000):\n",
      "        x=file.read(71)\n",
      "        if(x.count('A') != 0):\n",
      "            A.append(x.count('A'))\n",
      "            TA.append(x.count('A'))\n",
      "        if(x.count('G') != 0):\n",
      "            TG.append(x.count('G'))\n",
      "        if(x.count('T') != 0):\n",
      "            TT.append(x.count('T'))\n",
      "        if(x.count('C') != 0):\n",
      "            TC.append(x.count('C'))  \n",
      "            \n",
      "           "
     ],
     "language": "python",
     "metadata": {},
     "outputs": [],
     "prompt_number": 36
    },
    {
     "cell_type": "code",
     "collapsed": false,
     "input": [
      "for i in range (20,22):\n",
      "    file=open(\"hs_alt_CHM1_1.1_chr\"+str(i)+\".fa\",'r')\n",
      "    for j in range (0,5000000):\n",
      "        x=file.read(71)\n",
      "        if(x.count('A') != 0):\n",
      "            A.append(x.count('A'))\n",
      "        if(x.count('G') != 0):\n",
      "            G.append(x.count('G'))\n",
      "        if(x.count('T') != 0):\n",
      "            T.append(x.count('T'))\n",
      "        if(x.count('C') != 0):\n",
      "            C.append(x.count('C'))    \n",
      "           "
     ],
     "language": "python",
     "metadata": {},
     "outputs": [],
     "prompt_number": 21
    },
    {
     "cell_type": "code",
     "collapsed": false,
     "input": [
      "import numpy as np\n",
      "print np.mean(A)\n",
      "print np.mean(T)\n",
      "print np.mean(G)\n",
      "print np.mean(C)\n",
      "print len(A)"
     ],
     "language": "python",
     "metadata": {},
     "outputs": [
      {
       "output_type": "stream",
       "stream": "stdout",
       "text": [
        "20.6714558644\n",
        "20.700052772"
       ]
      },
      {
       "output_type": "stream",
       "stream": "stdout",
       "text": [
        "\n",
        "14.3263184851"
       ]
      },
      {
       "output_type": "stream",
       "stream": "stdout",
       "text": [
        "\n",
        "14.320115222"
       ]
      },
      {
       "output_type": "stream",
       "stream": "stdout",
       "text": [
        "\n",
        "37756985\n"
       ]
      }
     ],
     "prompt_number": 34
    },
    {
     "cell_type": "code",
     "collapsed": false,
     "input": [
      "#print np.std(A)\n",
      "#print np.std(T)\n",
      "#print np.std(G)\n",
      "#print np.std(C)"
     ],
     "language": "python",
     "metadata": {},
     "outputs": [
      {
       "ename": "MemoryError",
       "evalue": "",
       "output_type": "pyerr",
       "traceback": [
        "\u001b[1;31m---------------------------------------------------------------------------\u001b[0m\n\u001b[1;31mMemoryError\u001b[0m                               Traceback (most recent call last)",
        "\u001b[1;32m<ipython-input-29-6e88a28028c8>\u001b[0m in \u001b[0;36m<module>\u001b[1;34m()\u001b[0m\n\u001b[1;32m----> 1\u001b[1;33m \u001b[1;32mprint\u001b[0m \u001b[0mnp\u001b[0m\u001b[1;33m.\u001b[0m\u001b[0mstd\u001b[0m\u001b[1;33m(\u001b[0m\u001b[0mA\u001b[0m\u001b[1;33m)\u001b[0m\u001b[1;33m\u001b[0m\u001b[0m\n\u001b[0m\u001b[0;32m      2\u001b[0m \u001b[1;31m#print np.std(T)\u001b[0m\u001b[1;33m\u001b[0m\u001b[1;33m\u001b[0m\u001b[0m\n\u001b[0;32m      3\u001b[0m \u001b[1;31m#print np.std(G)\u001b[0m\u001b[1;33m\u001b[0m\u001b[1;33m\u001b[0m\u001b[0m\n\u001b[0;32m      4\u001b[0m \u001b[1;31m#print np.std(C)\u001b[0m\u001b[1;33m\u001b[0m\u001b[1;33m\u001b[0m\u001b[0m\n",
        "\u001b[1;32mC:\\Python27\\lib\\site-packages\\numpy\\core\\fromnumeric.pyc\u001b[0m in \u001b[0;36mstd\u001b[1;34m(a, axis, dtype, out, ddof, keepdims)\u001b[0m\n\u001b[0;32m   2815\u001b[0m \u001b[1;33m\u001b[0m\u001b[0m\n\u001b[0;32m   2816\u001b[0m     return _methods._std(a, axis=axis, dtype=dtype, out=out, ddof=ddof,\n\u001b[1;32m-> 2817\u001b[1;33m                                 keepdims=keepdims)\n\u001b[0m\u001b[0;32m   2818\u001b[0m \u001b[1;33m\u001b[0m\u001b[0m\n\u001b[0;32m   2819\u001b[0m def var(a, axis=None, dtype=None, out=None, ddof=0,\n",
        "\u001b[1;32mC:\\Python27\\lib\\site-packages\\numpy\\core\\_methods.pyc\u001b[0m in \u001b[0;36m_std\u001b[1;34m(a, axis, dtype, out, ddof, keepdims)\u001b[0m\n\u001b[0;32m    119\u001b[0m \u001b[1;32mdef\u001b[0m \u001b[0m_std\u001b[0m\u001b[1;33m(\u001b[0m\u001b[0ma\u001b[0m\u001b[1;33m,\u001b[0m \u001b[0maxis\u001b[0m\u001b[1;33m=\u001b[0m\u001b[0mNone\u001b[0m\u001b[1;33m,\u001b[0m \u001b[0mdtype\u001b[0m\u001b[1;33m=\u001b[0m\u001b[0mNone\u001b[0m\u001b[1;33m,\u001b[0m \u001b[0mout\u001b[0m\u001b[1;33m=\u001b[0m\u001b[0mNone\u001b[0m\u001b[1;33m,\u001b[0m \u001b[0mddof\u001b[0m\u001b[1;33m=\u001b[0m\u001b[1;36m0\u001b[0m\u001b[1;33m,\u001b[0m \u001b[0mkeepdims\u001b[0m\u001b[1;33m=\u001b[0m\u001b[0mFalse\u001b[0m\u001b[1;33m)\u001b[0m\u001b[1;33m:\u001b[0m\u001b[1;33m\u001b[0m\u001b[0m\n\u001b[0;32m    120\u001b[0m     ret = _var(a, axis=axis, dtype=dtype, out=out, ddof=ddof,\n\u001b[1;32m--> 121\u001b[1;33m                keepdims=keepdims)\n\u001b[0m\u001b[0;32m    122\u001b[0m \u001b[1;33m\u001b[0m\u001b[0m\n\u001b[0;32m    123\u001b[0m     \u001b[1;32mif\u001b[0m \u001b[0misinstance\u001b[0m\u001b[1;33m(\u001b[0m\u001b[0mret\u001b[0m\u001b[1;33m,\u001b[0m \u001b[0mmu\u001b[0m\u001b[1;33m.\u001b[0m\u001b[0mndarray\u001b[0m\u001b[1;33m)\u001b[0m\u001b[1;33m:\u001b[0m\u001b[1;33m\u001b[0m\u001b[0m\n",
        "\u001b[1;32mC:\\Python27\\lib\\site-packages\\numpy\\core\\_methods.pyc\u001b[0m in \u001b[0;36m_var\u001b[1;34m(a, axis, dtype, out, ddof, keepdims)\u001b[0m\n\u001b[0;32m     96\u001b[0m     \u001b[1;31m# Note that x may not be inexact and that we need it to be an array,\u001b[0m\u001b[1;33m\u001b[0m\u001b[1;33m\u001b[0m\u001b[0m\n\u001b[0;32m     97\u001b[0m     \u001b[1;31m# not a scalar.\u001b[0m\u001b[1;33m\u001b[0m\u001b[1;33m\u001b[0m\u001b[0m\n\u001b[1;32m---> 98\u001b[1;33m     \u001b[0mx\u001b[0m \u001b[1;33m=\u001b[0m \u001b[0masanyarray\u001b[0m\u001b[1;33m(\u001b[0m\u001b[0marr\u001b[0m \u001b[1;33m-\u001b[0m \u001b[0marrmean\u001b[0m\u001b[1;33m)\u001b[0m\u001b[1;33m\u001b[0m\u001b[0m\n\u001b[0m\u001b[0;32m     99\u001b[0m     \u001b[1;32mif\u001b[0m \u001b[0missubclass\u001b[0m\u001b[1;33m(\u001b[0m\u001b[0marr\u001b[0m\u001b[1;33m.\u001b[0m\u001b[0mdtype\u001b[0m\u001b[1;33m.\u001b[0m\u001b[0mtype\u001b[0m\u001b[1;33m,\u001b[0m \u001b[0mnt\u001b[0m\u001b[1;33m.\u001b[0m\u001b[0mcomplexfloating\u001b[0m\u001b[1;33m)\u001b[0m\u001b[1;33m:\u001b[0m\u001b[1;33m\u001b[0m\u001b[0m\n\u001b[0;32m    100\u001b[0m         \u001b[0mx\u001b[0m \u001b[1;33m=\u001b[0m \u001b[0mum\u001b[0m\u001b[1;33m.\u001b[0m\u001b[0mmultiply\u001b[0m\u001b[1;33m(\u001b[0m\u001b[0mx\u001b[0m\u001b[1;33m,\u001b[0m \u001b[0mum\u001b[0m\u001b[1;33m.\u001b[0m\u001b[0mconjugate\u001b[0m\u001b[1;33m(\u001b[0m\u001b[0mx\u001b[0m\u001b[1;33m)\u001b[0m\u001b[1;33m,\u001b[0m \u001b[0mout\u001b[0m\u001b[1;33m=\u001b[0m\u001b[0mx\u001b[0m\u001b[1;33m)\u001b[0m\u001b[1;33m.\u001b[0m\u001b[0mreal\u001b[0m\u001b[1;33m\u001b[0m\u001b[0m\n",
        "\u001b[1;31mMemoryError\u001b[0m: "
       ]
      }
     ],
     "prompt_number": 29
    },
    {
     "cell_type": "code",
     "collapsed": false,
     "input": [
      "\n",
      "subplot(3,1,1)\n",
      "hist((TG,TC),50, normed='true', color=('blue','red'),cumulative='true',label=('Guanina','Citosina'),range=[0,40])\n",
      "legend()\n",
      "title('Estudio de la frecuencia de las bases Nitrogenadas en fragmentos de cromosoma X',fontsize=10)\n",
      "subplot(3,1,2)\n",
      "hist((TA,TT),50, normed='true', color=('yellow','black'),cumulative='true',label=('Adenina','Timina'),range=[0,40])\n",
      "legend()\n",
      "subplot(3,1,3)\n",
      "hist((TG,TA),50, normed='true', color=('blue','yellow'),cumulative='true',label=('Guanina','Adenina'),range=[0,40])\n",
      "legend()"
     ],
     "language": "python",
     "metadata": {},
     "outputs": [
      {
       "metadata": {},
       "output_type": "pyout",
       "prompt_number": 37,
       "text": [
        "<matplotlib.legend.Legend at 0x8c0c430>"
       ]
      },
      {
       "metadata": {},
       "output_type": "display_data",
       "png": "[encoded data removed]",
       "text": [
        "<matplotlib.figure.Figure at 0x9ab4e30>"
       ]
      }
     ],
     "prompt_number": 37
    },
    {
     "cell_type": "code",
     "collapsed": false,
     "input": [
      "3e6*22"
     ],
     "language": "python",
     "metadata": {},
     "outputs": [
      {
       "metadata": {},
       "output_type": "pyout",
       "prompt_number": 35,
       "text": [
        "66000000.0"
       ]
      }
     ],
     "prompt_number": 35
    },
    {
     "cell_type": "code",
     "collapsed": false,
     "input": [],
     "language": "python",
     "metadata": {},
     "outputs": []
    }
   ],
   "metadata": {}
  }
 ]
}