{
 "metadata": {
  "name": "",
  "signature": "sha256:eb7e19239d21854b2f151ed330e7430beba4f34596a4d0e3609b0b9d233b6583"
 },
 "nbformat": 3,
 "nbformat_minor": 0,
 "worksheets": [
  {
   "cells": [
    {
     "cell_type": "code",
     "collapsed": false,
     "input": [
      "%pylab inline"
     ],
     "language": "python",
     "metadata": {},
     "outputs": [
      {
       "output_type": "stream",
       "stream": "stdout",
       "text": [
        "Populating the interactive namespace from numpy and matplotlib\n"
       ]
      }
     ],
     "prompt_number": 1
    },
    {
     "cell_type": "code",
     "collapsed": false,
     "input": [
      "import csv\n",
      "import scipy.stats"
     ],
     "language": "python",
     "metadata": {},
     "outputs": [],
     "prompt_number": 14
    },
    {
     "cell_type": "code",
     "collapsed": false,
     "input": [
      "\n",
      "a=[]\n",
      "nombre=[]\n",
      "e2=[]\n",
      "e21=[]\n",
      "c=0\n",
      "acum=0\n",
      "with open(\"giro_2014.csv\", 'rb') as csvfile: #importar desde csv.reader\n",
      "    spamreader = csv.reader(csvfile, delimiter=\",\", quotechar='|') \n",
      "    for row in spamreader: \n",
      "        a.append(row) #agregar a las filas\n",
      "    for i in range (1,len(a)): \n",
      "        b=a[i] \n",
      "        for j in range (len(b)):\n",
      "            \n",
      "            if(j==0): \n",
      "                nombre.append(b[j]) #agregar a las filas\n",
      "            if(j==4): \n",
      "                c=int(b[j])+int(b[j-1])\n",
      "                \n",
      "                e2.append(c) #agregar a las filas\n",
      "            if(j==23): \n",
      "                \n",
      "                for i in (3,23):\n",
      "                    if b[i]==\"NA\":\n",
      "                        b[i]=0\n",
      "                    else:\n",
      "                        acum=acum+int(b[i])\n",
      "                \n",
      "                e21.append(acum) #agregar a las filas\n",
      "             \n",
      "print e2\n",
      "\n",
      "                "
     ],
     "language": "python",
     "metadata": {},
     "outputs": [
      {
       "output_type": "stream",
       "stream": "stdout",
       "text": [
        "[21835, 22251, 21869, 21919, 22263, 21872, 21975, 22273, 21879, 21835, 21922, 21947, 21975, 21893, 21865, 21893, 22017, 22052, 21879, 22269, 21826, 21893, 21878, 21893, 22375, 22087, 21875, 21906, 21835, 21835, 21769, 21893, 21869, 22473, 22702, 22389, 22129, 21829, 22025, 21957, 22313, 22285, 21878, 21890, 22055, 22285, 21919, 22161, 21803, 22423, 21829, 22171, 22305, 22409, 22141, 21925, 21875, 21922, 21759, 21777, 22239, 21773, 22168, 21917, 21879, 21916, 21881, 22117, 22015, 21985, 21835, 21865, 21915, 21871, 21907, 21881, 21875, 21945, 22473, 21947, 21829, 22276, 22087, 21937, 22171, 21879, 21907, 21972, 21869, 21805, 21841, 22223, 21878, 21879, 21858, 21865, 21881, 21803, 21835, 21915, 21911, 22201, 21871, 21805, 21975, 21869, 21920, 21756, 21805, 21975, 21759, 21871, 21947, 21881, 21875, 21773, 21945, 21919, 21865, 21915, 21919, 21872, 21773, 21925, 21945, 21769, 21907, 21769, 22241, 21915, 21893, 21803, 21919, 21805, 22195, 21875, 21871, 21829, 22030, 21869, 22015, 21863, 21881, 21865, 21805, 21907, 21945, 21805, 21975, 22368, 21907, 21805, 21993, 21890, 21773, 21759, 21835, 22129, 21769, 21975, 21829, 21805, 22426, 22239, 21826, 22305, 21975, 21919, 21835, 21880, 22157, 21759, 22329, 21919, 21769, 22171, 21944, 21928, 22029, 22275, 22065, 21915, 21963, 21769, 21945, 21963, 21862, 22389, 21875, 21759, 22171, 21947, 21773, 21893, 21835, 21879]\n"
       ]
      }
     ],
     "prompt_number": 80
    },
    {
     "cell_type": "code",
     "collapsed": false,
     "input": [
      "\n",
      "hist(e21, normed=True, bins=10)"
     ],
     "language": "python",
     "metadata": {},
     "outputs": [
      {
       "metadata": {},
       "output_type": "pyout",
       "prompt_number": 76,
       "text": [
        "(array([  1.93523222e-08,   2.13894087e-08,   2.44450385e-08,\n",
        "          1.62966923e-08,   1.93523222e-08,   2.03708654e-08,\n",
        "          1.62966923e-08,   1.73152356e-08,   2.24079520e-08,\n",
        "          2.24079520e-08]),\n",
        " array([   328727. ,   5337881.7,  10347036.4,  15356191.1,  20365345.8,\n",
        "         25374500.5,  30383655.2,  35392809.9,  40401964.6,  45411119.3,\n",
        "         50420274. ]),\n",
        " <a list of 10 Patch objects>)"
       ]
      },
      {
       "metadata": {},
       "output_type": "display_data",
       "png": "[encoded data removed]",
       "text": [
        "<matplotlib.figure.Figure at 0x11679810>"
       ]
      }
     ],
     "prompt_number": 76
    },
    {
     "cell_type": "code",
     "collapsed": false,
     "input": [
      "hist(e2, normed=True, bins=20)"
     ],
     "language": "python",
     "metadata": {},
     "outputs": [
      {
       "metadata": {},
       "output_type": "pyout",
       "prompt_number": 50,
       "text": [
        "(array([ 0.00226518,  0.00269664,  0.00528541,  0.00366743,  0.00172585,\n",
        "         0.00075506,  0.00053933,  0.0003236 ,  0.00086292,  0.0003236 ,\n",
        "         0.00097079,  0.00053933,  0.00021573,  0.00043146,  0.00021573,\n",
        "         0.00021573,  0.        ,  0.        ,  0.        ,  0.00010787]),\n",
        " array([ 21756. ,  21803.3,  21850.6,  21897.9,  21945.2,  21992.5,\n",
        "         22039.8,  22087.1,  22134.4,  22181.7,  22229. ,  22276.3,\n",
        "         22323.6,  22370.9,  22418.2,  22465.5,  22512.8,  22560.1,\n",
        "         22607.4,  22654.7,  22702. ]),\n",
        " <a list of 20 Patch objects>)"
       ]
      },
      {
       "metadata": {},
       "output_type": "display_data",
       "png": "[encoded data removed]",
       "text": [
        "<matplotlib.figure.Figure at 0xeecab30>"
       ]
      }
     ],
     "prompt_number": 50
    },
    {
     "cell_type": "code",
     "collapsed": false,
     "input": [
      "#def expfunc(p,q,m):\n",
      " #   return (1/(m*(2*pi)**1/2))*e**((-(p-q)**2/(2*m**2)))\n",
      "n = linspace(315000,34000,153)\n",
      "\n",
      "ndist = scipy.stats.norm(np.mean(e21),np.std(e21))\n",
      "plot(e21,ndist.pdf(e21))\n",
      "hist(e21, normed=True)"
     ],
     "language": "python",
     "metadata": {},
     "outputs": [
      {
       "metadata": {},
       "output_type": "pyout",
       "prompt_number": 59,
       "text": [
        "(array([  1.93523222e-08,   2.13894087e-08,   2.44450385e-08,\n",
        "          1.62966923e-08,   1.93523222e-08,   2.03708654e-08,\n",
        "          1.62966923e-08,   1.73152356e-08,   2.24079520e-08,\n",
        "          2.24079520e-08]),\n",
        " array([   328727. ,   5337881.7,  10347036.4,  15356191.1,  20365345.8,\n",
        "         25374500.5,  30383655.2,  35392809.9,  40401964.6,  45411119.3,\n",
        "         50420274. ]),\n",
        " <a list of 10 Patch objects>)"
       ]
      },
      {
       "metadata": {},
       "output_type": "display_data",
       "png": "[encoded data removed]",
       "text": [
        "<matplotlib.figure.Figure at 0x107b5730>"
       ]
      }
     ],
     "prompt_number": 59
    },
    {
     "cell_type": "code",
     "collapsed": false,
     "input": [
      "caca=np.genfromtxt(\"giro_2014.csv\", delimiter=\",\",skip_header=1)  \n",
      "\n",
      "caca2= caca[:,4]\n",
      "caca4=caca[:,6]\n",
      "caca21=caca[:,23]\n",
      "\n",
      "caca21= caca21[numpy.logical_not(numpy.isnan(caca21))]\n",
      "\n",
      "\n",
      "hist(caca21, normed=True)"
     ],
     "language": "python",
     "metadata": {},
     "outputs": [
      {
       "metadata": {},
       "output_type": "pyout",
       "prompt_number": 73,
       "text": [
        "(array([  4.83658058e-05,   3.10923037e-05,   3.45470041e-05,\n",
        "          5.52752066e-05,   6.56393079e-05,   6.21846074e-05,\n",
        "          7.60034091e-05,   7.60034091e-05,   6.56393079e-05,\n",
        "          1.38188017e-05]),\n",
        " array([ 317672. ,  319563.9,  321455.8,  323347.7,  325239.6,  327131.5,\n",
        "         329023.4,  330915.3,  332807.2,  334699.1,  336591. ]),\n",
        " <a list of 10 Patch objects>)"
       ]
      },
      {
       "metadata": {},
       "output_type": "display_data",
       "png": "[encoded data removed]",
       "text": [
        "<matplotlib.figure.Figure at 0x110b7c90>"
       ]
      }
     ],
     "prompt_number": 73
    },
    {
     "cell_type": "code",
     "collapsed": false,
     "input": [],
     "language": "python",
     "metadata": {},
     "outputs": []
    }
   ],
   "metadata": {}
  }
 ]
}