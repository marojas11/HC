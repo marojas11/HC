{
 "metadata": {
  "kernelspec": {
   "display_name": "Python 3",
   "language": "python",
   "name": "python3"
  },
  "language_info": {
   "codemirror_mode": {
    "name": "ipython",
    "version": 3
   },
   "file_extension": ".py",
   "mimetype": "text/x-python",
   "name": "python",
   "nbconvert_exporter": "python",
   "pygments_lexer": "ipython3",
   "version": "3.4.3"
  },
  "name": ""
 },
 "nbformat": 3,
 "nbformat_minor": 0,
 "worksheets": [
  {
   "cells": [
    {
     "cell_type": "markdown",
     "metadata": {},
     "source": [
      "# Quiz\n",
      "\n",
      "### Ejercicio 1\n",
      "Obtenga la estatura promedio en Colombia (http://es.wikipedia.org/wiki/Estatura).\n",
      "Asumiendo que sigue una distribuci\u00f3n gausiana, y que $1 \\sigma = 10cm$:\n",
      "    \n",
      "    Cu\u00e1l es la probabilidad de medir 175,195,215,235,265? Visualice su respuesta"
     ]
    },
    {
     "cell_type": "markdown",
     "metadata": {},
     "source": [
      "### Ejercicio 2\n",
      "Visualice los histogramas de los datos de **age bone density, diamond prices y blackouts** encontrados en:\n",
      "    https://github.com/spsaaibi/ComputationalToolsData/tree/master/data/DistributionData\n",
      "        \n",
      "Cu\u00e1les son gaussianos? compare graficamente con la distribuci\u00f3n normal"
     ]
    },
    {
     "cell_type": "markdown",
     "metadata": {},
     "source": [
      "#### Tip:\n",
      "\n",
      "$f(x, \\mu, \\sigma) = \\dfrac{1}{\\sigma \\sqrt{2\\pi}} e^{-\\dfrac{(x-\\mu)^2}{2\\sigma^2}} $\n",
      "\n",
      "donde $\\sigma$ es la desviacion estandar y $\\mu$ la media de los datos $x$"
     ]
    }
   ],
   "metadata": {}
  }
 ]
}