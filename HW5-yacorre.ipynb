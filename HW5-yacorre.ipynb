{
 "metadata": {
  "name": "",
  "signature": "sha256:a1cf8c682e9056cfbf1eb3ac1655106d8ba25cf87938892b1faa7992793842e2"
 },
 "nbformat": 3,
 "nbformat_minor": 0,
 "worksheets": [
  {
   "cells": [
    {
     "cell_type": "code",
     "collapsed": false,
     "input": [
      "#! /usr/bin/env python\n",
      "# -*- coding: utf-8 -*-\n",
      "import random \n",
      "\n",
      "x=0\n",
      "def barajar(a):\n",
      "    for i in range(0,52):\n",
      "        x=random.randrange(52)\n",
      "        \n",
      "        b=a[x]\n",
      "        a[x]=a[i]\n",
      "        a[i]=b\n",
      "      \n",
      "def carta(n):\n",
      "    if n==1:\n",
      "        carta=\"A\"\n",
      "    elif n==11:\n",
      "        carta=\"J\"\n",
      "    elif n==12:\n",
      "        carta=\"Q\"\n",
      "    elif n==13:\n",
      "        carta=\"K\"\n",
      "    else:\n",
      "        carta=n\n",
      "    return carta\n",
      "\n",
      "def repartir(a):\n",
      "    carta=a[0]\n",
      "    a.pop(0)\n",
      "    return carta\n",
      "\n",
      "def total(j):\n",
      "    tam=len(j)\n",
      "    suma=0\n",
      "    hay=0\n",
      "    for i in range(0,tam):\n",
      "        valor=j[i]\n",
      "        if valor>10:\n",
      "            valor=10\n",
      "        elif valor==1:\n",
      "            hay+=1\n",
      "            valor=11\n",
      "        suma+=valor\n",
      "    \n",
      "    while (suma>21 and hay>0):\n",
      "        suma-=10\n",
      "        hay-=1\n",
      "    return suma\n",
      "\n",
      "def ganador(jugador,cpu):\n",
      "    tj=total(jugador)\n",
      "    tc=total(cpu)\n",
      "    if tj>21:\n",
      "        result=\"gana cpu\"\n",
      "    elif tc>21:\n",
      "        result=\"gana jugador\"\n",
      "    elif tj>tc:\n",
      "        result=\"gana jugador\"\n",
      "    elif tc>tj:\n",
      "        result=\"gana cpu\"\n",
      "    else:\n",
      "        result=\"contra cpu no hay empate, has perdido\"\n",
      "    return result\n",
      "\n",
      "def turnoCPU(cpu,a):\n",
      "    while total(cpu)<17:\n",
      "        print \"CPU: \",\n",
      "        print c\n",
      "        nueva=repartir(a)\n",
      "        cpu.append(nueva)\n",
      "        c.append(carta(nueva))\n",
      "        total(cpu)\n",
      "        \n",
      "    print \"CPU: \",\n",
      "    print c\n",
      "\n",
      "def turnoJugador(jugador):\n",
      "    jugar=raw_input(\"Desea una nueva carta?(si/no)\")\n",
      "    if jugar==\"si\":\n",
      "        if total(jugador)<=21:\n",
      "            nueva=repartir(a)\n",
      "            jugador.append(nueva)\n",
      "            j.append(carta(nueva))\n",
      "            total(cpu)\n",
      "            print \"jugador: \",\n",
      "            print j\n",
      "        else:\n",
      "            print \"Usted ha perdido\"\n",
      "            jugar=\"Terminar\"\n",
      "    elif jugar==\"no\":\n",
      "        if total(jugador)<=21:\n",
      "            print \"Espere al turno del cpu\"\n",
      "        else:\n",
      "            print \"Usted ha perdido\" \n",
      "    else:\n",
      "        \"No te endiendo, marca si/no\"\n",
      "    return jugar\n",
      "\n",
      "def empezar(a):\n",
      "    \n",
      "    barajar(a)\n",
      "    for i in range(0,4):\n",
      "        if i<2:\n",
      "            jugador[i]=repartir(a)\n",
      "            j[i]=carta(jugador[i])\n",
      "            \n",
      "            cpu[i]=repartir(a)\n",
      "            c[i]=carta(cpu[i])\n",
      "            cc[i]=c[i]\n",
      "            if i==0:\n",
      "                cc[i]=\"*\"\n",
      "                \n",
      "            \n",
      "    \n",
      "    print \"jugador: \",\n",
      "    print j\n",
      "    print \"CPU: \",\n",
      "    print cc"
     ],
     "language": "python",
     "metadata": {},
     "outputs": [],
     "prompt_number": 4
    },
    {
     "cell_type": "code",
     "collapsed": false,
     "input": [
      "jugador=[0,0]\n",
      "cpu=[0,0]\n",
      "j=[0,0]\n",
      "c=[0,0]\n",
      "cc=[0,0]\n",
      "a=[1, 2, 3, 4, 5, 6, 7, 8, 9, 10, 11, 12, 13, 1, 2, 3, 4, 5, 6, 7, 8, 9, 10, 11, 12, 13, 1, 2, 3, 4, 5, 6, 7, 8, 9, 10, 11, 12, 13,1, 2, 3, 4, 5, 6, 7, 8, 9, 10, 11, 12, 13]\n",
      "\n",
      "empezar(a)\n",
      "\n",
      "jugar=\"si\"\n",
      "\n",
      "while jugar==\"si\":\n",
      "    jugar=turnoJugador(jugador)\n",
      "if jugar==\"no\":\n",
      "    turnoCPU(cpu,a)\n",
      "    print ganador(jugador,cpu)\n",
      "    \n",
      "    \n",
      "\n",
      "\n"
     ],
     "language": "python",
     "metadata": {},
     "outputs": [
      {
       "output_type": "stream",
       "stream": "stdout",
       "text": [
        "jugador:  [4, 'J']\n",
        "CPU:  ['*', 9]\n"
       ]
      },
      {
       "name": "stdout",
       "output_type": "stream",
       "stream": "stdout",
       "text": [
        "Desea una nueva carta?(si/no)si\n"
       ]
      },
      {
       "output_type": "stream",
       "stream": "stdout",
       "text": [
        "jugador:  [4, 'J', 'K']\n"
       ]
      },
      {
       "name": "stdout",
       "output_type": "stream",
       "stream": "stdout",
       "text": [
        "Desea una nueva carta?(si/no)no\n"
       ]
      },
      {
       "output_type": "stream",
       "stream": "stdout",
       "text": [
        "Usted ha perdido\n",
        "CPU:  ['Q', 9]\n",
        "gana cpu\n"
       ]
      }
     ],
     "prompt_number": 8
    },
    {
     "cell_type": "code",
     "collapsed": false,
     "input": [
      "dis=[[1,2],[1,2]]\n",
      "\n",
      "\n",
      "\n"
     ],
     "language": "python",
     "metadata": {},
     "outputs": [
      {
       "output_type": "stream",
       "stream": "stdout",
       "text": [
        "[[1, 2], [1, 2]]\n"
       ]
      }
     ],
     "prompt_number": 10
    },
    {
     "cell_type": "code",
     "collapsed": false,
     "input": [
      "print \"hola\"\n",
      "    "
     ],
     "language": "python",
     "metadata": {},
     "outputs": [
      {
       "output_type": "stream",
       "stream": "stdout",
       "text": [
        "hola\n"
       ]
      }
     ],
     "prompt_number": 1
    },
    {
     "cell_type": "code",
     "collapsed": false,
     "input": [
      "\n",
      "        \n",
      "        \n",
      "    "
     ],
     "language": "python",
     "metadata": {},
     "outputs": []
    }
   ],
   "metadata": {}
  }
 ]
}