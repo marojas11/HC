{
 "metadata": {
  "name": "",
  "signature": "sha256:e7e8173b2ee0d3ca730cdebbf5d9114da50f25eb285bbc489babeb25c8d98ef9"
 },
 "nbformat": 3,
 "nbformat_minor": 0,
 "worksheets": [
  {
   "cells": [
    {
     "cell_type": "code",
     "collapsed": false,
     "input": [
      "L = 1000 # number of cells in row\n",
      "num_iters = 1000 # number of iterations\n",
      "density = 0.\n",
      "80# how many positives\n",
      "vmax = 5\n",
      "p = 1/3.0\n",
      "a = np.zeros(shape=(num_iters,L))\n",
      "\n",
      "cars_num = k\n",
      "initial = [0] * cars_num + [-1] * (L - cars_num)\n",
      "shuffle(initial)\n",
      "iterations = [initial]\n",
      "popo=0\n",
      "for i in range(num_iters):\n",
      "    prev,curr = iterations[-1],[-1] * L\n",
      "    for x in range(L):\n",
      "        if prev[x] > -1:\n",
      "            vi = prev[x]\n",
      "            d = 1\n",
      "            while prev[(x + d) % L] < 0:\n",
      "                d += 1\n",
      " \n",
      "        vtemp = min(vi+1, d - 1, vmax) # increse speed up to max speed, but don't move further than next car\n",
      "        v = max(vtemp - 1, 0) if uniform(0,1) < p else vtemp # with probability p hit the brakes, otherwise sustain velocity\n",
      "        popo+=v\n",
      "        curr[(x + v) % L] = v # perform the move\n",
      "                #print(x,v)\n",
      " \n",
      "        iterations.append(curr)\n",
      " \n",
      " \n",
      "    \n",
      "for i in range(L):\n",
      "    for j in range(num_iters):\n",
      "        a[j,i] = 1 if iterations[j][i] > -1 else 0"
     ],
     "language": "python",
     "metadata": {},
     "outputs": []
    }
   ],
   "metadata": {}
  }
 ]
}