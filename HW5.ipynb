{
 "metadata": {
  "name": "",
  "signature": "sha256:a1cf8c682e9056cfbf1eb3ac1655106d8ba25cf87938892b1faa7992793842e2"
 },
 "nbformat": 3,
 "nbformat_minor": 0,
 "worksheets": [
  {
   "cells": [
    {
     "cell_type": "code",
     "collapsed": false,
     "input": [
      "#! /usr/bin/env python\n",
      "# -*- coding: utf-8 -*-\n",
      "\n",
      "a=[1, 2, 3, 4, 5, 6, 7, 8, 9, 10, 11, 12, 13, 1, 2, 3, 4, 5, 6, 7, 8, 9, 10, 11, 12, 13, 1, 2, 3, 4, 5, 6, 7, 8, 9, 10, 11, 12, 13,\n",
      "1, 2, 3, 4, 5, 6, 7, 8, 9, 10, 11, 12, 13]\n",
      "x=0\n",
      "    "
     ],
     "language": "python",
     "metadata": {},
     "outputs": [],
     "prompt_number": 221
    },
    {
     "cell_type": "code",
     "collapsed": false,
     "input": [
      "import random   \n",
      "def barajar(a):\n",
      "    for i in range(0,52):\n",
      "        x=random.randrange(53)\n",
      "        b=a[x]\n",
      "        a[x]=a[i]\n",
      "        a[i]=b\n",
      "    print a   \n",
      "    \n",
      "barajar(a)\n",
      "\n",
      "\n"
     ],
     "language": "python",
     "metadata": {},
     "outputs": [
      {
       "output_type": "stream",
       "stream": "stdout",
       "text": [
        "[10, 8, 3, 7, 5, 10, 1, 12, 12, 2, 1, 4, 6, 7, 2, 12, 5, 10, 1, 8, 13, 9, 1, 2, 9, 3, 7, 11, 6, 6, 2, 6, 11, 7, 9, 3, 10, 8, 13, 4, 13, 11, 8, 4, 5, 12, 9, 4, 5, 3, 11, 13]\n"
       ]
      }
     ],
     "prompt_number": 223
    },
    {
     "cell_type": "code",
     "collapsed": false,
     "input": [
      "\n",
      "def carta(n):\n",
      "    if n==1:\n",
      "        carta=\"A\"\n",
      "    elif n==11:\n",
      "        carta=\"J\"\n",
      "    elif n==12:\n",
      "        carta=\"Q\"\n",
      "    elif n==13:\n",
      "        carta=\"K\"\n",
      "    else:\n",
      "        carta=n\n",
      "    return carta\n",
      "\n",
      "carta(13)\n",
      "\n",
      "\n"
     ],
     "language": "python",
     "metadata": {},
     "outputs": [],
     "prompt_number": 185
    },
    {
     "cell_type": "code",
     "collapsed": false,
     "input": [
      "print a\n",
      "jugador=[0,0]\n",
      "cpu=[0,0]\n",
      "j=[0,0]\n",
      "c=[0,0]\n",
      "def empezar(a):\n",
      "    \n",
      "    for i in range(0,4):\n",
      "        if i<2:\n",
      "            jugador[i]=repartir(a)\n",
      "            j[i]=carta(jugador[i])\n",
      "            \n",
      "            cpu[i]=repartir(a)\n",
      "            c[i]=carta(cpu[i])\n",
      "            \n",
      "    \n",
      "    print \"jugador: \",\n",
      "    print j\n",
      "    print \"CPU: \",\n",
      "    print c\n",
      "\n",
      "empezar(a)\n",
      "\n"
     ],
     "language": "python",
     "metadata": {},
     "outputs": [
      {
       "output_type": "stream",
       "stream": "stdout",
       "text": [
        "[12, 2, 1, 4, 6, 7, 2, 12, 5, 10, 1, 8, 13, 9, 1, 2, 9, 3, 7, 11, 6, 6, 2, 6, 11, 7, 9, 3, 10, 8, 13, 4, 13, 11, 8, 4, 5, 12, 9, 4, 5, 3, 11, 13]\n",
        "jugador:  ['Q', 'A']\n",
        "CPU:  [2, 4]\n"
       ]
      }
     ],
     "prompt_number": 234
    },
    {
     "cell_type": "code",
     "collapsed": false,
     "input": [
      "\n",
      "def repartir(a):\n",
      "    carta=a[0]\n",
      "    a.pop(0)\n",
      "    return carta\n",
      "        \n",
      "repartir(a)"
     ],
     "language": "python",
     "metadata": {},
     "outputs": [],
     "prompt_number": 193
    },
    {
     "cell_type": "code",
     "collapsed": false,
     "input": [
      "\n",
      "def total(j):\n",
      "    tam=len(j)\n",
      "    suma=0\n",
      "    hay=0\n",
      "    for i in range(0,tam):\n",
      "        valor=j[i]\n",
      "        if valor>10:\n",
      "            valor=10\n",
      "        elif valor==1:\n",
      "            hay+=1\n",
      "            valor=11\n",
      "        suma+=valor\n",
      "    \n",
      "    while (suma>21 and hay>0):\n",
      "        suma-=10\n",
      "        hay-=1\n",
      "    return suma\n",
      "    \n",
      "    \n",
      "\n",
      "print total(jugador)\n",
      "\n",
      "    "
     ],
     "language": "python",
     "metadata": {},
     "outputs": [
      {
       "output_type": "stream",
       "stream": "stdout",
       "text": [
        "21\n"
       ]
      }
     ],
     "prompt_number": 279
    },
    {
     "cell_type": "code",
     "collapsed": false,
     "input": [
      "tj=total(jugador)\n",
      "tc=total(cpu)\n",
      "if tj>21:\n",
      "    result=\"gana cpu\"\n",
      "elif tc>21:\n",
      "    result=\"gana jugador\"\n",
      "elif tj>tc:\n",
      "    result=\"gana jugador\"\n",
      "else:\n",
      "    result=\"gana cpu\"\n",
      "print result\n",
      "    "
     ],
     "language": "python",
     "metadata": {},
     "outputs": [
      {
       "output_type": "stream",
       "stream": "stdout",
       "text": [
        "gana jugador\n"
       ]
      }
     ],
     "prompt_number": 284
    },
    {
     "cell_type": "code",
     "collapsed": false,
     "input": [],
     "language": "python",
     "metadata": {},
     "outputs": []
    }
   ],
   "metadata": {}
  }
 ]
}