{
 "metadata": {
  "name": "",
  "signature": "sha256:71e406825a6bcf0201d84b887a36ac0a22ad1956b01e8bdf6187ad93eecf1c36"
 },
 "nbformat": 3,
 "nbformat_minor": 0,
 "worksheets": [
  {
   "cells": [
    {
     "cell_type": "code",
     "collapsed": false,
     "input": [
      "%pylab inline \n",
      "# (%pylab == import numpy as np && import matplotlib as plt), (inline == graficas dentro del notebook)"
     ],
     "language": "python",
     "metadata": {},
     "outputs": [
      {
       "output_type": "stream",
       "stream": "stdout",
       "text": [
        "Populating the interactive namespace from numpy and matplotlib\n"
       ]
      }
     ],
     "prompt_number": 1
    },
    {
     "cell_type": "heading",
     "level": 1,
     "metadata": {},
     "source": [
      "Recursividad"
     ]
    },
    {
     "cell_type": "markdown",
     "metadata": {},
     "source": [
      "En esta parte queremos aprender a hacer c\u00e1lculos con recursividad. Ustedes ya tienen familiaridad haciendo otro tipo de c\u00e1lculos iterativos (usando ciclos/bucles). Estas se llaman funciones **Iterativas**."
     ]
    },
    {
     "cell_type": "heading",
     "level": 2,
     "metadata": {},
     "source": [
      "Funciones Iterativas vs. Recursivas"
     ]
    },
    {
     "cell_type": "markdown",
     "metadata": {},
     "source": [
      "La diferencia principal es que las funciones recursivas se llaman a si mismas. Confundidos? Calculemos un factorial!"
     ]
    },
    {
     "cell_type": "markdown",
     "metadata": {},
     "source": [
      "Los factoriales aparecen siempre en matem\u00e1ticas y ciencias naturales.\n",
      "Un ejemplo:\n",
      "$$4! = 4\\times3\\times2\\times1 = 24$$\n",
      "\n",
      "En general, los factoriales tienen esta forma:\n",
      "$$n! = n\\times(n-1)\\times(n-2) ... \\times2\\times1$$\n",
      "\n",
      "Qu\u00e9 hacemos exactamente en ese \"...\"? o m\u00e1s precisamente, qu\u00e9 hace el computador?\n",
      "\n",
      "\n",
      "Podemos intentar re-escribrir esa \u00faltima ecuaci\u00f3n:\n",
      "\n",
      "$$n! = n\\times(n-1)!$$\n",
      "\n",
      "Pero esto no resuelve nuestro problema; tenemos una definici\u00f3n circular.\n",
      "\n",
      "Pero si la dividimos en casos, tenemos una definici\u00f3n funcional.\n",
      "\n",
      "$$n! = 1, n=0$$\n",
      "$$n! = n\\times(n-1)!, n>0$$\n",
      "\n",
      "Esto sirve para $n$ entero. Es decir, dividimos nuestro problema en un caso base y caso recursivo."
     ]
    },
    {
     "cell_type": "code",
     "collapsed": false,
     "input": [
      "def factorial_iterativo(n):\n",
      "    resultado = 1\n",
      "    for i in range(1, n+1):\n",
      "        resultado *= i\n",
      "    return resultado"
     ],
     "language": "python",
     "metadata": {},
     "outputs": [],
     "prompt_number": 2
    },
    {
     "cell_type": "code",
     "collapsed": false,
     "input": [
      "for i in range(1,10):\n",
      "    print(factorial_iterativo(i))"
     ],
     "language": "python",
     "metadata": {},
     "outputs": [
      {
       "output_type": "stream",
       "stream": "stdout",
       "text": [
        "1\n",
        "2\n",
        "6\n",
        "24\n",
        "120\n",
        "720\n",
        "5040\n",
        "40320\n",
        "362880\n"
       ]
      }
     ],
     "prompt_number": 3
    },
    {
     "cell_type": "code",
     "collapsed": false,
     "input": [
      "def factorial_recursivo(n):\n",
      "    if n == 0:\n",
      "        return 1\n",
      "    else:\n",
      "        return n*factorial_recursivo(n-1)"
     ],
     "language": "python",
     "metadata": {},
     "outputs": [],
     "prompt_number": 5
    },
    {
     "cell_type": "code",
     "collapsed": false,
     "input": [
      "x = zeros(10)\n",
      "y = range(1,10)\n",
      "for i in y:\n",
      "    x[i] = factorial_recursivo(i)"
     ],
     "language": "python",
     "metadata": {},
     "outputs": [],
     "prompt_number": 6
    },
    {
     "cell_type": "code",
     "collapsed": false,
     "input": [
      "plot(x)"
     ],
     "language": "python",
     "metadata": {},
     "outputs": [
      {
       "metadata": {},
       "output_type": "pyout",
       "prompt_number": 7,
       "text": [
        "[<matplotlib.lines.Line2D at 0x7fee93ec0940>]"
       ]
      },
      {
       "metadata": {},
       "output_type": "display_data",
       "png": "[encoded data removed]",
       "text": [
        "<matplotlib.figure.Figure at 0x7fee93ee1470>"
       ]
      }
     ],
     "prompt_number": 7
    },
    {
     "cell_type": "heading",
     "level": 2,
     "metadata": {},
     "source": [
      "Fibonacci y m\u00e1s..."
     ]
    },
    {
     "cell_type": "markdown",
     "metadata": {},
     "source": [
      "C\u00f3mo escribir\u00eda la serie de fibonacci?"
     ]
    }
   ],
   "metadata": {}
  }
 ]
}